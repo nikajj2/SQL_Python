{
 "cells": [
  {
   "cell_type": "markdown",
   "id": "936bbf0d",
   "metadata": {},
   "source": [
    "# @SQL_Python.ipynb\n",
    "\n",
    "#@version 1.01 May, 2023"
   ]
  },
  {
   "cell_type": "code",
   "execution_count": null,
   "id": "4bcd193a",
   "metadata": {
    "tags": []
   },
   "outputs": [],
   "source": [
    "# if the module is not installed yet, we pip install it\n",
    "# pip install mysql-connector-python\n",
    "\n",
    "import mysql.connector\n",
    "import numpy as np\n",
    "import pandas as pd"
   ]
  },
  {
   "cell_type": "code",
   "execution_count": null,
   "id": "e7f9b25a",
   "metadata": {
    "tags": []
   },
   "outputs": [],
   "source": [
    "# Read the authentication file\n",
    "auth = np.loadtxt('authentication.txt', dtype = str)\n",
    "auth"
   ]
  },
  {
   "cell_type": "code",
   "execution_count": null,
   "id": "735c4aaa",
   "metadata": {
    "tags": []
   },
   "outputs": [],
   "source": [
    "# Config dictionary\n",
    "labels = ['username', 'password', 'host', 'database']\n",
    "config = dict(zip(labels, list(auth)))\n",
    "config"
   ]
  },
  {
   "cell_type": "markdown",
   "id": "1fe6a97a",
   "metadata": {},
   "source": [
    "## Drop all tables so we cancreate them again and insert  data"
   ]
  },
  {
   "cell_type": "markdown",
   "id": "aa6df840",
   "metadata": {},
   "source": [
    "### Drop Table Grade"
   ]
  },
  {
   "cell_type": "code",
   "execution_count": null,
   "id": "66d5ca76",
   "metadata": {
    "tags": []
   },
   "outputs": [],
   "source": [
    "# Connection\n",
    "conn = mysql.connector.connect(**config)\n",
    "# Cursor\n",
    "cursor = conn.cursor()\n",
    "# Drop query\n",
    "query = (\"DROP TABLE IF EXISTS Grade;\")\n",
    "# Run the query\n",
    "cursor.execute(query)\n",
    "#Commit\n",
    "cursor.execute('commit')\n",
    "# Close the cursor\n",
    "cursor.close()\n",
    "# Close the connection\n",
    "conn.close()"
   ]
  },
  {
   "cell_type": "markdown",
   "id": "2f4be21f",
   "metadata": {},
   "source": [
    "### Drop Table Class"
   ]
  },
  {
   "cell_type": "code",
   "execution_count": null,
   "id": "4ae20209",
   "metadata": {
    "tags": []
   },
   "outputs": [],
   "source": [
    "# Connection\n",
    "conn = mysql.connector.connect(**config)\n",
    "# Cursor\n",
    "cursor = conn.cursor()\n",
    "# Drop query\n",
    "query = (\"DROP TABLE IF EXISTS Class;\")\n",
    "# Run the query\n",
    "cursor.execute(query)\n",
    "#Commit\n",
    "cursor.execute('commit')\n",
    "# Close the cursor\n",
    "cursor.close()\n",
    "# Close the connection\n",
    "conn.close()"
   ]
  },
  {
   "cell_type": "markdown",
   "id": "91cf59c2",
   "metadata": {},
   "source": [
    "### Drop Table Course"
   ]
  },
  {
   "cell_type": "code",
   "execution_count": null,
   "id": "7aa87180",
   "metadata": {},
   "outputs": [],
   "source": [
    "# Connection\n",
    "conn = mysql.connector.connect(**config)\n",
    "# Cursor\n",
    "cursor = conn.cursor()\n",
    "# Drop query\n",
    "query = (\"DROP TABLE IF EXISTS Course\")\n",
    "# Run the query\n",
    "cursor.execute(query)\n",
    "#Commit\n",
    "cursor.execute('commit')\n",
    "# Close the cursor\n",
    "cursor.close()\n",
    "# Close the connection\n",
    "conn.close()"
   ]
  },
  {
   "cell_type": "markdown",
   "id": "2bc2a46c",
   "metadata": {},
   "source": [
    "### Drop Table Student"
   ]
  },
  {
   "cell_type": "code",
   "execution_count": null,
   "id": "f2413314",
   "metadata": {},
   "outputs": [],
   "source": [
    "# Connection\n",
    "conn = mysql.connector.connect(**config)\n",
    "# Cursor\n",
    "cursor = conn.cursor()\n",
    "# Drop query\n",
    "query = (\"DROP TABLE IF EXISTS  Student\")\n",
    "# Run the query\n",
    "cursor.execute(query)\n",
    "#Commit\n",
    "cursor.execute('commit')\n",
    "# Close the cursor\n",
    "cursor.close()\n",
    "# Close the connection\n",
    "conn.close()"
   ]
  },
  {
   "cell_type": "markdown",
   "id": "ffc11cf2",
   "metadata": {},
   "source": [
    "# Create Table Student"
   ]
  },
  {
   "cell_type": "code",
   "execution_count": null,
   "id": "63621671",
   "metadata": {
    "tags": []
   },
   "outputs": [],
   "source": [
    "# Connection\n",
    "conn = mysql.connector.connect(**config)\n",
    "# Cursor\n",
    "cursor = conn.cursor()\n",
    "# Create Table query\n",
    "query = (\"CREATE TABLE Student (\\\n",
    "  EMPLID INT NOT NULL,\\\n",
    "  FirstName VARCHAR(20) NOT NULL,\\\n",
    "  LastName VARCHAR(20) NOT NULL,\\\n",
    "  Email VARCHAR(40) NOT NULL,\\\n",
    "  PRIMARY KEY (EMPLID));\")\n",
    "# Run the query\n",
    "cursor.execute(query)\n",
    "#Commit\n",
    "cursor.execute('commit')\n",
    "# Close the cursor\n",
    "cursor.close()\n",
    "# Close the connection\n",
    "conn.close()"
   ]
  },
  {
   "cell_type": "markdown",
   "id": "4b4e80a2",
   "metadata": {},
   "source": [
    "### Populating a table Student from CSV file"
   ]
  },
  {
   "cell_type": "code",
   "execution_count": null,
   "id": "cb7048b9",
   "metadata": {
    "tags": []
   },
   "outputs": [],
   "source": [
    "# Reading the CSV into a pandas dataframe\n",
    "students = pd.read_csv('student.csv')\n",
    "students.columns = ['EMPLID', 'First Name','Last Name', 'Email']\n",
    "students.head()\n",
    "print(students)"
   ]
  },
  {
   "cell_type": "markdown",
   "id": "8c0f130f",
   "metadata": {},
   "source": [
    "### Inserting into Table Students"
   ]
  },
  {
   "cell_type": "code",
   "execution_count": null,
   "id": "c5b9a536",
   "metadata": {},
   "outputs": [],
   "source": [
    "# Connecting\n",
    "conn = mysql.connector.connect(**config)\n",
    "cursor = conn.cursor()\n",
    "\n",
    "# Inserting the values\n",
    "for i in range(len(students)):\n",
    "    emplid = students.iloc[i]['EMPLID']\n",
    "    firstname = students.iloc[i]['First Name']\n",
    "    lastname = students.iloc[i]['Last Name']\n",
    "    email = students.iloc[i]['Email']\n",
    "    query = \"INSERT INTO Student VALUES ({emplid}, '{firstname}','{lastname}','{email}')\".\\\n",
    "        format( emplid= emplid, firstname = firstname,lastname=lastname,email=email)\n",
    "    print (\"Executing: \", query)\n",
    "    cursor.execute(query)\n",
    "\n",
    "# Committing the changes    \n",
    "cursor.execute('commit')\n",
    "\n",
    "# Closing the connectionExecuting:  INSERT VALUES \n",
    "cursor.close()\n",
    "conn.close()"
   ]
  },
  {
   "cell_type": "markdown",
   "id": "373b9b08",
   "metadata": {},
   "source": [
    "# Create Table Course"
   ]
  },
  {
   "cell_type": "code",
   "execution_count": null,
   "id": "107f8f1b",
   "metadata": {},
   "outputs": [],
   "source": [
    "# Connection\n",
    "conn = mysql.connector.connect(**config)\n",
    "# Cursor\n",
    "cursor = conn.cursor()\n",
    "# Create Table query\n",
    "query = (\"CREATE TABLE Course (\\\n",
    "  CourseID INT NOT NULL,\\\n",
    "  Department VARCHAR(45) NOT NULL,\\\n",
    "  CourseName VARCHAR(45) NOT NULL,\\\n",
    "  PRIMARY KEY (CourseID, Department));\")\n",
    "# Run the query\n",
    "cursor.execute(query)\n",
    "#Commit\n",
    "cursor.execute('commit')\n",
    "# Close the cursor\n",
    "cursor.close()\n",
    "# Close the connection\n",
    "conn.close()"
   ]
  },
  {
   "cell_type": "markdown",
   "id": "240500e3",
   "metadata": {},
   "source": [
    "### Populating a table Course from CSV file"
   ]
  },
  {
   "cell_type": "code",
   "execution_count": null,
   "id": "8a4e396c",
   "metadata": {
    "tags": []
   },
   "outputs": [],
   "source": [
    "# Reading the CSV into a pandas dataframe\n",
    "courses = pd.read_csv('course.csv')\n",
    "courses.columns = ['Course ID', 'Department','Course Name']\n",
    "# \n",
    "print(courses )"
   ]
  },
  {
   "cell_type": "markdown",
   "id": "1e50d1f3",
   "metadata": {},
   "source": [
    "### Inserting into table Course"
   ]
  },
  {
   "cell_type": "code",
   "execution_count": null,
   "id": "33503611",
   "metadata": {
    "tags": []
   },
   "outputs": [],
   "source": [
    "# Connecting\n",
    "conn = mysql.connector.connect(**config)\n",
    "cursor = conn.cursor()\n",
    "\n",
    "# Inserting the values\n",
    "for i in range(len(courses)):\n",
    "    courseId = courses.iloc[i]['Course ID']\n",
    "    department = courses.iloc[i]['Department']\n",
    "    courseName = courses.iloc[i]['Course Name']\n",
    "    query = \"INSERT INTO Course VALUES ({courseId}, '{department}','{courseName}')\".\\\n",
    "        format( courseId= courseId, department = department,courseName=courseName)\n",
    "    print (\"Executing: \", query)\n",
    "    cursor.execute(query)\n",
    "\n",
    "# Committing the changes    \n",
    "cursor.execute('commit')\n",
    "\n",
    "\n",
    "\n",
    "cursor.close()\n",
    "conn.close()"
   ]
  },
  {
   "cell_type": "markdown",
   "id": "3f15bce2",
   "metadata": {
    "tags": []
   },
   "source": [
    "#### Create index in Coursename"
   ]
  },
  {
   "cell_type": "code",
   "execution_count": null,
   "id": "1cf18ae9",
   "metadata": {},
   "outputs": [],
   "source": [
    "# Connection\n",
    "conn = mysql.connector.connect(**config)\n",
    "# Cursor\n",
    "cursor = conn.cursor()\n",
    "# Create index query\n",
    "query = (\"CREATE INDEX idx_CourseName ON Course (CourseName);\")\n",
    "# Run the query\n",
    "cursor.execute(query)\n",
    "#Commit\n",
    "cursor.execute('commit')\n",
    "# Close the cursor\n",
    "cursor.close()\n",
    "# Close the connection\n",
    "conn.close()"
   ]
  },
  {
   "cell_type": "markdown",
   "id": "9370c98a",
   "metadata": {},
   "source": [
    "# Create Table Class"
   ]
  },
  {
   "cell_type": "code",
   "execution_count": null,
   "id": "890d4481",
   "metadata": {},
   "outputs": [],
   "source": [
    "# Connection\n",
    "conn = mysql.connector.connect(**config)\n",
    "# Cursor\n",
    "cursor = conn.cursor()\n",
    "# Create Table query\n",
    "query = (\"CREATE TABLE Class (\\\n",
    "  CourseName VARCHAR(60) NOT NULL,\\\n",
    "  SessionNumber INT NOT NULL,\\\n",
    "  InstructorName VARCHAR(45) NOT NULL,\\\n",
    "  PRIMARY KEY (CourseName, SessionNumber),\\\n",
    "  FOREIGN KEY (CourseName) REFERENCES Course (CourseName));\")\n",
    "# Run the query\n",
    "cursor.execute(query)\n",
    "#Commit\n",
    "cursor.execute('commit')\n",
    "# Close the cursor\n",
    "cursor.close()\n",
    "# Close the connection\n",
    "conn.close()"
   ]
  },
  {
   "cell_type": "markdown",
   "id": "a6942d91",
   "metadata": {},
   "source": [
    "### Populating a table Class from CSV file"
   ]
  },
  {
   "cell_type": "code",
   "execution_count": null,
   "id": "f3e12132-b243-4be0-bacf-9bddd87e125f",
   "metadata": {
    "tags": []
   },
   "outputs": [],
   "source": [
    "# Reading the CSV into a pandas dataframe\n",
    "classes = pd.read_csv('class.csv')\n",
    "classes.columns = ['Course Name', 'Session','Instructor Name']\n",
    "\n",
    "print(classes )"
   ]
  },
  {
   "cell_type": "markdown",
   "id": "f0c20a47",
   "metadata": {},
   "source": [
    "### Inserting into table Class"
   ]
  },
  {
   "cell_type": "code",
   "execution_count": null,
   "id": "83cc5efa-7ca1-4ee8-8b37-5f32fa75c48f",
   "metadata": {
    "tags": []
   },
   "outputs": [],
   "source": [
    "# Connecting\n",
    "conn = mysql.connector.connect(**config)\n",
    "cursor = conn.cursor()\n",
    "\n",
    "# Inserting the values\n",
    "for i in range(len(classes)):\n",
    "    courseName = classes.iloc[i]['Course Name']\n",
    "    session = classes.iloc[i]['Session']\n",
    "    instructorName = classes.iloc[i]['Instructor Name']\n",
    "    query = \"INSERT INTO Class VALUES ('{courseName}', {session},'{instructorName}')\".\\\n",
    "        format( courseName= courseName, session = session,instructorName=instructorName)\n",
    "    print (\"Executing: \", query)\n",
    "    cursor.execute(query)\n",
    "\n",
    "# Committing the changes    \n",
    "cursor.execute('commit')\n",
    "\n",
    "\n",
    "\n",
    "cursor.close()\n",
    "conn.close()"
   ]
  },
  {
   "cell_type": "markdown",
   "id": "94fc0ba0",
   "metadata": {},
   "source": [
    "#### Create index in Coursename"
   ]
  },
  {
   "cell_type": "code",
   "execution_count": null,
   "id": "99e2a023",
   "metadata": {},
   "outputs": [],
   "source": [
    "# Connection\n",
    "conn = mysql.connector.connect(**config)\n",
    "# Cursor\n",
    "cursor = conn.cursor()\n",
    "# Create index query\n",
    "query = (\"CREATE INDEX idx_Session ON Class (  SessionNumber );\")\n",
    "# Run the query\n",
    "cursor.execute(query)\n",
    "#Commit\n",
    "cursor.execute('commit')\n",
    "# Close the cursor\n",
    "cursor.close()\n",
    "# Close the connection\n",
    "conn.close()"
   ]
  },
  {
   "cell_type": "markdown",
   "id": "1968bb85",
   "metadata": {},
   "source": [
    "## Create Table Grade "
   ]
  },
  {
   "cell_type": "code",
   "execution_count": null,
   "id": "8eac92f1",
   "metadata": {},
   "outputs": [],
   "source": [
    "# Connection\n",
    "conn = mysql.connector.connect(**config)\n",
    "# Cursor\n",
    "cursor = conn.cursor()\n",
    "# Create Table query\n",
    "query = (\"CREATE TABLE Grade (\\\n",
    "  CourseName VARCHAR(45) NOT NULL,\\\n",
    "  EMPLID INT NOT NULL,\\\n",
    "  SessionNumber INT NOT NULL,\\\n",
    "  Grade VARCHAR(1) NOT NULL,\\\n",
    "  PRIMARY KEY (CourseName, SessionNumber,EMPLID ),\\\n",
    "  FOREIGN KEY (CourseName) REFERENCES Course (CourseName),\\\n",
    "  FOREIGN KEY (EMPLID ) REFERENCES Student (EMPLID ),\\\n",
    "  FOREIGN KEY (SessionNumber) REFERENCES Class (SessionNumber));\")\n",
    "# Run the query\n",
    "cursor.execute(query)\n",
    "#Commit\n",
    "cursor.execute('commit')\n",
    "# Close the cursor\n",
    "cursor.close()\n",
    "# Close the connection\n",
    "conn.close()"
   ]
  },
  {
   "cell_type": "markdown",
   "id": "7a6f824d",
   "metadata": {},
   "source": [
    "## Populating a table Grade from CSV file"
   ]
  },
  {
   "cell_type": "code",
   "execution_count": null,
   "id": "34f88c14-9d0a-4ca1-b042-84bac84d9245",
   "metadata": {},
   "outputs": [],
   "source": [
    "# Reading the CSV into a pandas dataframe\n",
    "grades = pd.read_csv('grade.csv')\n",
    "grades.columns = ['EMPLID', 'Course Name','Session','Grade']\n",
    "\n",
    "print(grades )"
   ]
  },
  {
   "cell_type": "markdown",
   "id": "772b9fb0",
   "metadata": {},
   "source": [
    "## Inserting into table Grade"
   ]
  },
  {
   "cell_type": "code",
   "execution_count": null,
   "id": "237966b1-6950-48f3-bbe5-81196f0f14e1",
   "metadata": {
    "tags": []
   },
   "outputs": [],
   "source": [
    "# Connecting\n",
    "conn = mysql.connector.connect(**config)\n",
    "cursor = conn.cursor()\n",
    "\n",
    "# Inserting the values\n",
    "for i in range(len(grades)):\n",
    "    emplid = grades.iloc[i]['EMPLID']\n",
    "    courseName = grades.iloc[i]['Course Name']\n",
    "    session=grades.iloc[i]['Session']\n",
    "    grade = grades.iloc[i]['Grade']\n",
    "    query = \"INSERT INTO Grade VALUES ( '{courseName}',{emplid},{session},'{grade}')\".\\\n",
    "        format(courseName = courseName,emplid= emplid,session=session, grade=grade)\n",
    "    print (\"Executing: \", query)\n",
    "    cursor.execute(query)\n",
    "\n",
    "# Committing the changes    \n",
    "cursor.execute('commit')\n",
    "\n",
    "\n",
    "\n",
    "cursor.close()\n",
    "conn.close()"
   ]
  },
  {
   "cell_type": "markdown",
   "id": "7dbd56e0",
   "metadata": {},
   "source": [
    "### Selecting from Table Student"
   ]
  },
  {
   "cell_type": "code",
   "execution_count": null,
   "id": "ed1e0d9f-95b2-4545-9a02-e4ca69d659ee",
   "metadata": {},
   "outputs": [],
   "source": [
    "# Connecting\n",
    "conn = mysql.connector.connect(**config)\n",
    "cursor = conn.cursor()\n",
    "query = \"Select * from Student\"\n",
    "print (\"Executing: \", query)\n",
    "cursor.execute(query)\n",
    "# Fetching and printing the results\n",
    "results = cursor.fetchall()\n",
    "for row in results:\n",
    "    print(row)\n",
    "\n",
    "    \n",
    "    \n",
    "cursor.close()\n",
    "conn.close()\n"
   ]
  },
  {
   "cell_type": "markdown",
   "id": "374e63f5",
   "metadata": {},
   "source": [
    "## Updating table- changing email of student with the name Isabella"
   ]
  },
  {
   "cell_type": "code",
   "execution_count": null,
   "id": "1086417d",
   "metadata": {},
   "outputs": [],
   "source": [
    "# Connecting\n",
    "conn = mysql.connector.connect(**config)\n",
    "cursor = conn.cursor()\n",
    "query = \"Select * from Student where FirstName='Isabella'\"\n",
    "print (\"Executing: \", query)\n",
    "cursor.execute(query)\n",
    "# Fetching and printing the results\n",
    "results = cursor.fetchall()\n",
    "for row in results:\n",
    "    print(row)\n",
    "#Update table query   \n",
    "query = \"Update Student Set Email='iyoung@ccny.cuny.edu' where EMPLID=90832647\"\n",
    "print (\"Executing: \", query)\n",
    "cursor.execute(query)\n",
    "# Committing the changes    \n",
    "cursor.execute('commit')   \n",
    "    \n",
    "#Select Query    \n",
    "query = \"Select * from Student where FirstName='Isabella'\"\n",
    "print (\"Executing: \", query)\n",
    "cursor.execute(query)\n",
    "# Fetching and printing the results\n",
    "results = cursor.fetchall()\n",
    "for row in results:\n",
    "    print(row)\n",
    "    \n",
    "    \n",
    "    \n",
    "cursor.close()\n",
    "conn.close()"
   ]
  },
  {
   "cell_type": "markdown",
   "id": "3a6582e5",
   "metadata": {},
   "source": [
    "## Show Students who have at least one A"
   ]
  },
  {
   "cell_type": "code",
   "execution_count": null,
   "id": "64d797e8",
   "metadata": {},
   "outputs": [],
   "source": [
    "# Connecting\n",
    "#Show Student and the grade\n",
    "conn = mysql.connector.connect(**config)\n",
    "cursor = conn.cursor()\n",
    "query = \"SELECT s.FirstName, s.LastName, g.Grade FROM Student s JOIN Grade g ON s.EMPLID = g.EMPLID \\\n",
    "WHERE g.Grade = 'A'\"\n",
    "print (\"Executing: \", query)\n",
    "cursor.execute(query)\n",
    "# Fetching and printing the results\n",
    "results = cursor.fetchall()\n",
    "print(\"Best Students Are:\")\n",
    "print(\"{:<15}\".format('First Name'), \"{:<15}\".format('Last Name'), \"{:<10}\".format('Grade'))\n",
    "for row in results:\n",
    "    print(\"{:<15}\".format(row[0]),\"{:<15}\".format(row[1]),\"{:<15}\".format(row[2]))\n",
    "\n",
    "    \n",
    "    \n",
    "cursor.close()\n",
    "conn.close()\n"
   ]
  },
  {
   "cell_type": "markdown",
   "id": "e9c8b357",
   "metadata": {},
   "source": [
    "## Order Professors based on whose student has teken most number of A"
   ]
  },
  {
   "cell_type": "code",
   "execution_count": null,
   "id": "0616442e",
   "metadata": {},
   "outputs": [],
   "source": [
    "#Professor's whose student has teken most number of A\n",
    "\n",
    "\n",
    "# Connecting\n",
    "conn = mysql.connector.connect(**config)\n",
    "cursor = conn.cursor()\n",
    "query = \"SELECT c.InstructorName, COUNT(*) AS A_Grades FROM Class c JOIN Grade g ON g.CourseName = c.CourseName \\\n",
    "JOIN Student s ON g.EMPLID = s.EMPLID WHERE g.Grade = 'A' GROUP BY c.InstructorName ORDER BY A_Grades DESC\"\n",
    "print (\"Executing: \", query)\n",
    "cursor.execute(query)\n",
    "# Fetching and printing the results\n",
    "results = cursor.fetchall()\n",
    "print(\"Most Succesful Professors  Are:\")\n",
    "print(\"{:<25}\".format('Professor\\'s Name'), \"{:<25}\".format('No. of Students with A'), )\n",
    "for row in results:\n",
    "    print(\"{:<25}\".format(row[0]),\"{:<25}\".format(row[1]))\n",
    "\n",
    "    \n",
    "    \n",
    "cursor.close()\n",
    "conn.close()"
   ]
  },
  {
   "cell_type": "markdown",
   "id": "b748b8d7",
   "metadata": {},
   "source": [
    "## For each student show the number of A or B or C and so on taken"
   ]
  },
  {
   "cell_type": "code",
   "execution_count": null,
   "id": "dd1e037a",
   "metadata": {},
   "outputs": [],
   "source": [
    "#For each student show the number of A or B or C and so on taken\n",
    "\n",
    "grades=['A','B','C','D','F']\n",
    "conn = mysql.connector.connect(**config)\n",
    "cursor = conn.cursor()\n",
    "for i in grades:\n",
    "    query = \"SELECT s.FirstName, s.LastName, COUNT(*) AS A_Grades FROM Student s \\\n",
    "    JOIN Grade g ON g.EMPLID = s.EMPLID WHERE g.Grade = '{i}' GROUP BY s.FirstName, s.Lastname ORDER BY A_Grades DESC\".\\\n",
    "        format(i=i)\n",
    "    print (\"Executing: \", query)\n",
    "    cursor.execute(query)\n",
    "# Fetching and printing the results\n",
    "    results = cursor.fetchall()\n",
    "    print(\"Most Succesful Professors  Are:\")\n",
    "    print(\"{:<25}\".format('Students\\'s Fisrt Name'), \"{:<25}\".format('Student\\'s Last Name'), 'No. of ', i, 'taken' )\n",
    "    for row in results:\n",
    "        print(\"{:<25}\".format(row[0]),\"{:<25}\".format(row[1]), \"{:<25}\".format(row[2]))\n",
    "\n",
    "    \n",
    "    \n",
    "cursor.close()\n",
    "conn.close()"
   ]
  },
  {
   "cell_type": "markdown",
   "id": "2339fef4",
   "metadata": {},
   "source": [
    "## Show all the grades for student with the last name Smith"
   ]
  },
  {
   "cell_type": "code",
   "execution_count": null,
   "id": "fe3804b4",
   "metadata": {},
   "outputs": [],
   "source": [
    "# Connecting\n",
    "#Show Student and the grade\n",
    "conn = mysql.connector.connect(**config)\n",
    "cursor = conn.cursor()\n",
    "query = \"SELECT s.FirstName, s.LastName, g.Grade FROM Student s JOIN Grade g ON s.EMPLID = g.EMPLID \\\n",
    "WHERE s.LastName = 'Smith'\"\n",
    "print (\"Executing: \", query)\n",
    "cursor.execute(query)\n",
    "# Fetching and printing the results\n",
    "results = cursor.fetchall()\n",
    "print(\"Best Students Are:\")\n",
    "print(\"{:<15}\".format('First Name'), \"{:<15}\".format('Last Name'), \"{:<10}\".format('Grade'))\n",
    "for row in results:\n",
    "    print(\"{:<15}\".format(row[0]),\"{:<15}\".format(row[1]),\"{:<15}\".format(row[2]))\n",
    "\n",
    "    \n",
    "    \n",
    "cursor.close()\n",
    "conn.close()"
   ]
  },
  {
   "cell_type": "markdown",
   "id": "32f02d4e",
   "metadata": {},
   "source": [
    "### Delete a  grade from the table"
   ]
  },
  {
   "cell_type": "code",
   "execution_count": null,
   "id": "663eff58",
   "metadata": {},
   "outputs": [],
   "source": [
    "# Connecting\n",
    "conn = mysql.connector.connect(**config)\n",
    "cursor = conn.cursor()\n",
    "query = \"Select * from Grade where EMPLID=50981763 and CourseName='Intro to Computer Science' \"\n",
    "\n",
    "\n",
    "print (\"Executing: \", query)\n",
    "cursor.execute(query)\n",
    "# Fetching and printing the results\n",
    "results = cursor.fetchall()\n",
    "for row in results:\n",
    "    print(row)\n",
    "#Delete table query   \n",
    "query = \"Delete from  Grade where EMPLID=50981763 and CourseName='Intro to Computer Science'\"\n",
    "print (\"Executing: \", query)\n",
    "cursor.execute(query)\n",
    "# Committing the changes    \n",
    "cursor.execute('commit')   \n",
    "    \n",
    "#Select Query    \n",
    "query = \"Select * from Grade where EMPLID=50981763 and CourseName='Intro to Computer Science'\"\n",
    "print (\"Executing: \", query)\n",
    "cursor.execute(query)\n",
    "# Fetching and printing the results\n",
    "results = cursor.fetchall()\n",
    "for row in results:\n",
    "    print(row)\n",
    "    \n",
    "    \n",
    "    \n",
    "cursor.close()\n",
    "conn.close()"
   ]
  },
  {
   "cell_type": "markdown",
   "id": "b1f3196e",
   "metadata": {},
   "source": [
    "### Altering table Student : Changing LastName to Last_Name"
   ]
  },
  {
   "cell_type": "code",
   "execution_count": null,
   "id": "0568f99c",
   "metadata": {},
   "outputs": [],
   "source": [
    "# Connecting\n",
    "conn = mysql.connector.connect(**config)\n",
    "cursor = conn.cursor()\n",
    "\n",
    "\n",
    "#Alter table query   \n",
    "query = \"ALTER TABLE Student RENAME COLUMN LastName TO Last_Name;'\"\n",
    "print (\"Executing: \", query)\n",
    "cursor.execute(query,multi=True)\n",
    "# Committing the changes    \n",
    "cursor.execute('commit')   \n",
    "    \n",
    "#Select Query    \n",
    "query = \"Select Last_Name from Student\"\n",
    "print (\"Executing: \", query)\n",
    "cursor.execute(query)\n",
    "# Fetching and printing the results\n",
    "results = cursor.fetchall()\n",
    "for row in results:\n",
    "    print(row)\n",
    "    \n",
    "    \n",
    "    \n",
    "cursor.close()\n",
    "conn.close()"
   ]
  }
 ],
 "metadata": {
  "kernelspec": {
   "display_name": "Python 3 (ipykernel)",
   "language": "python",
   "name": "python3"
  },
  "language_info": {
   "codemirror_mode": {
    "name": "ipython",
    "version": 3
   },
   "file_extension": ".py",
   "mimetype": "text/x-python",
   "name": "python",
   "nbconvert_exporter": "python",
   "pygments_lexer": "ipython3",
   "version": "3.9.12"
  }
 },
 "nbformat": 4,
 "nbformat_minor": 5
}
